{
 "cells": [
  {
   "cell_type": "code",
   "execution_count": 2,
   "metadata": {},
   "outputs": [
    {
     "name": "stderr",
     "output_type": "stream",
     "text": [
      "c:\\Users\\USUARIO\\.virtualenvs\\scraperFC-WyyYYgxL\\lib\\site-packages\\tqdm\\auto.py:21: TqdmWarning: IProgress not found. Please update jupyter and ipywidgets. See https://ipywidgets.readthedocs.io/en/stable/user_install.html\n",
      "  from .autonotebook import tqdm as notebook_tqdm\n"
     ]
    }
   ],
   "source": [
    "import ScraperFC as sfc\n",
    "\n",
    "understat = sfc.Understat()"
   ]
  },
  {
   "cell_type": "markdown",
   "metadata": {},
   "source": [
    "### Estadísticas de la tabla de una liga"
   ]
  },
  {
   "cell_type": "markdown",
   "metadata": {},
   "source": []
  },
  {
   "cell_type": "code",
   "execution_count": 5,
   "metadata": {},
   "outputs": [
    {
     "name": "stderr",
     "output_type": "stream",
     "text": [
      "d:\\usuario\\documents\\daniel documentos\\proyectos\\scraperfc\\scraperfc-2.9.2\\ScraperFC\\Understat.py:361: FutureWarning: Passing literal html to 'read_html' is deprecated and will be removed in a future version. To read from a literal string, wrap it in a 'StringIO' object.\n",
      "  columns = pd.read_html(table)[0].columns\n",
      "d:\\usuario\\documents\\daniel documentos\\proyectos\\scraperfc\\scraperfc-2.9.2\\ScraperFC\\Understat.py:366: FutureWarning: Passing literal html to 'read_html' is deprecated and will be removed in a future version. To read from a literal string, wrap it in a 'StringIO' object.\n",
      "  df = pd.read_html(table)[0]\n"
     ]
    }
   ],
   "source": [
    "league = 'La Liga'\n",
    "year = 2023\n",
    "\n",
    "tabla_liga = understat.scrape_league_table(year, league)\n",
    "\n",
    "# Guardar la data en csv\n",
    "tabla_liga.to_csv(f'../data/stats_tabla_{league.replace(\" \", \"_\")}_{year}_understat.csv', index=False, sep=';', encoding='utf-8')"
   ]
  },
  {
   "cell_type": "markdown",
   "metadata": {},
   "source": [
    "### Estadísticas de local y visitante"
   ]
  },
  {
   "cell_type": "code",
   "execution_count": 4,
   "metadata": {},
   "outputs": [
    {
     "name": "stderr",
     "output_type": "stream",
     "text": [
      "d:\\usuario\\documents\\daniel documentos\\proyectos\\scraperfc\\scraperfc-2.9.2\\ScraperFC\\Understat.py:415: FutureWarning: Passing literal html to 'read_html' is deprecated and will be removed in a future version. To read from a literal string, wrap it in a 'StringIO' object.\n",
      "  columns = pd.read_html(table)[0].columns\n",
      "d:\\usuario\\documents\\daniel documentos\\proyectos\\scraperfc\\scraperfc-2.9.2\\ScraperFC\\Understat.py:422: FutureWarning: Passing literal html to 'read_html' is deprecated and will be removed in a future version. To read from a literal string, wrap it in a 'StringIO' object.\n",
      "  home = pd.read_html(table)[0]\n",
      "d:\\usuario\\documents\\daniel documentos\\proyectos\\scraperfc\\scraperfc-2.9.2\\ScraperFC\\Understat.py:428: FutureWarning: Passing literal html to 'read_html' is deprecated and will be removed in a future version. To read from a literal string, wrap it in a 'StringIO' object.\n",
      "  away = pd.read_html(table)[0]\n"
     ]
    }
   ],
   "source": [
    "league = 'La Liga'\n",
    "year = 2023\n",
    "\n",
    "home, away = understat.scrape_home_away_tables(year, league)\n",
    "\n",
    "# Guardar la data en csv\n",
    "home.to_csv(f'../data/stats_home_{league.replace(\" \", \"_\")}_{year}_understat.csv', index=False, sep=';', encoding='utf-8')\n",
    "away.to_csv(f'../data/stats_away_{league.replace(\" \", \"_\")}_{year}_understat.csv', index=False, sep=';', encoding='utf-8')"
   ]
  },
  {
   "cell_type": "markdown",
   "metadata": {},
   "source": [
    "### Estadísticas de los partidos de una liga"
   ]
  },
  {
   "cell_type": "code",
   "execution_count": 4,
   "metadata": {},
   "outputs": [
    {
     "name": "stderr",
     "output_type": "stream",
     "text": [
      "100%|██████████| 380/380 [18:58<00:00,  3.00s/it]\n"
     ]
    }
   ],
   "source": [
    "league = 'La Liga'\n",
    "year = 2023\n",
    "\n",
    "matches = understat.scrape_matches(year, league)\n",
    "\n",
    "matches\n",
    "matches.to_csv(f'../data/matches_{league.replace(\" \", \"_\")}_{year}_understat.csv', index=False, sep=';', encoding='utf-8')"
   ]
  }
 ],
 "metadata": {
  "kernelspec": {
   "display_name": "scraperFC-WyyYYgxL",
   "language": "python",
   "name": "python3"
  },
  "language_info": {
   "codemirror_mode": {
    "name": "ipython",
    "version": 3
   },
   "file_extension": ".py",
   "mimetype": "text/x-python",
   "name": "python",
   "nbconvert_exporter": "python",
   "pygments_lexer": "ipython3",
   "version": "3.10.5"
  }
 },
 "nbformat": 4,
 "nbformat_minor": 2
}

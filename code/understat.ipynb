{
 "cells": [
  {
   "cell_type": "code",
   "execution_count": 3,
   "metadata": {},
   "outputs": [],
   "source": [
    "import ScraperFC as sfc\n",
    "\n",
    "understat = sfc.Understat()"
   ]
  },
  {
   "cell_type": "markdown",
   "metadata": {},
   "source": [
    "### Estadísticas de la tabla de una liga"
   ]
  },
  {
   "cell_type": "code",
   "execution_count": 12,
   "metadata": {},
   "outputs": [
    {
     "name": "stderr",
     "output_type": "stream",
     "text": [
      "d:\\usuario\\documents\\daniel documentos\\proyectos\\scraperfc\\scraperfc-2.9.2\\ScraperFC\\Understat.py:361: FutureWarning: Passing literal html to 'read_html' is deprecated and will be removed in a future version. To read from a literal string, wrap it in a 'StringIO' object.\n",
      "  columns = pd.read_html(table)[0].columns\n",
      "d:\\usuario\\documents\\daniel documentos\\proyectos\\scraperfc\\scraperfc-2.9.2\\ScraperFC\\Understat.py:366: FutureWarning: Passing literal html to 'read_html' is deprecated and will be removed in a future version. To read from a literal string, wrap it in a 'StringIO' object.\n",
      "  df = pd.read_html(table)[0]\n"
     ]
    }
   ],
   "source": [
    "league = 'La Liga'\n",
    "year = 2022\n",
    "\n",
    "tabla_liga = understat.scrape_league_table(year, league)\n",
    "\n",
    "# Guardar la data en csv\n",
    "tabla_liga.to_csv(f'../data/stats_tabla_{league.replace(\" \", \"_\")}_{year}_understat.csv', index=False, sep=';', encoding='utf-8')"
   ]
  },
  {
   "cell_type": "markdown",
   "metadata": {},
   "source": [
    "### Estadísticas de local y visitante"
   ]
  },
  {
   "cell_type": "code",
   "execution_count": 13,
   "metadata": {},
   "outputs": [
    {
     "name": "stderr",
     "output_type": "stream",
     "text": [
      "d:\\usuario\\documents\\daniel documentos\\proyectos\\scraperfc\\scraperfc-2.9.2\\ScraperFC\\Understat.py:415: FutureWarning: Passing literal html to 'read_html' is deprecated and will be removed in a future version. To read from a literal string, wrap it in a 'StringIO' object.\n",
      "  columns = pd.read_html(table)[0].columns\n",
      "d:\\usuario\\documents\\daniel documentos\\proyectos\\scraperfc\\scraperfc-2.9.2\\ScraperFC\\Understat.py:422: FutureWarning: Passing literal html to 'read_html' is deprecated and will be removed in a future version. To read from a literal string, wrap it in a 'StringIO' object.\n",
      "  home = pd.read_html(table)[0]\n",
      "d:\\usuario\\documents\\daniel documentos\\proyectos\\scraperfc\\scraperfc-2.9.2\\ScraperFC\\Understat.py:428: FutureWarning: Passing literal html to 'read_html' is deprecated and will be removed in a future version. To read from a literal string, wrap it in a 'StringIO' object.\n",
      "  away = pd.read_html(table)[0]\n"
     ]
    }
   ],
   "source": [
    "league = 'La Liga'\n",
    "year = 2022\n",
    "\n",
    "home, away = understat.scrape_home_away_tables(year, league)\n",
    "\n",
    "# Guardar la data en csv\n",
    "home.to_csv(f'../data/stats_home_{league.replace(\" \", \"_\")}_{year}_understat.csv', index=False, sep=';', encoding='utf-8')\n",
    "away.to_csv(f'../data/stats_away_{league.replace(\" \", \"_\")}_{year}_understat.csv', index=False, sep=';', encoding='utf-8')"
   ]
  }
 ],
 "metadata": {
  "kernelspec": {
   "display_name": "scraperFC-WyyYYgxL",
   "language": "python",
   "name": "python3"
  },
  "language_info": {
   "codemirror_mode": {
    "name": "ipython",
    "version": 3
   },
   "file_extension": ".py",
   "mimetype": "text/x-python",
   "name": "python",
   "nbconvert_exporter": "python",
   "pygments_lexer": "ipython3",
   "version": "3.10.5"
  }
 },
 "nbformat": 4,
 "nbformat_minor": 2
}

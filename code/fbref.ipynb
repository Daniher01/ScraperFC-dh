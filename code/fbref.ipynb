{
 "cells": [
  {
   "cell_type": "code",
   "execution_count": 1,
   "metadata": {},
   "outputs": [
    {
     "name": "stderr",
     "output_type": "stream",
     "text": [
      "c:\\Users\\USUARIO\\.virtualenvs\\scraperFC-WyyYYgxL\\lib\\site-packages\\tqdm\\auto.py:21: TqdmWarning: IProgress not found. Please update jupyter and ipywidgets. See https://ipywidgets.readthedocs.io/en/stable/user_install.html\n",
      "  from .autonotebook import tqdm as notebook_tqdm\n"
     ]
    }
   ],
   "source": [
    "import ScraperFC as sfc\n",
    "\n",
    "# Initialize the FBRef scraper\n",
    "scraper = sfc.FBRef()"
   ]
  },
  {
   "cell_type": "code",
   "execution_count": 2,
   "metadata": {},
   "outputs": [],
   "source": [
    "# Datos de la liga\n",
    "YEAR = 2023\n",
    "LEAGUE = 'Chile Campeonato Profesional'"
   ]
  },
  {
   "cell_type": "markdown",
   "metadata": {},
   "source": [
    "### Estadísticas de la liga"
   ]
  },
  {
   "cell_type": "code",
   "execution_count": 5,
   "metadata": {},
   "outputs": [
    {
     "name": "stdout",
     "output_type": "stream",
     "text": [
      "Scraping 2023 Chile Campeonato Profesional league table\n"
     ]
    }
   ],
   "source": [
    "\n",
    "# Scrape the table\n",
    "lg_table = scraper.scrape_league_table(year=YEAR, league=LEAGUE)\n",
    "\n",
    "# Guardar la data en csv\n",
    "lg_table.to_csv(f'../data/league_{LEAGUE.replace(\" \",\"_\")}_{YEAR}_FBRef.csv', index=False, sep=';', encoding='utf-8')"
   ]
  },
  {
   "cell_type": "markdown",
   "metadata": {},
   "source": [
    "### Estadísticas de los partidos de la liga"
   ]
  },
  {
   "cell_type": "code",
   "execution_count": null,
   "metadata": {},
   "outputs": [],
   "source": [
    "matches = scraper.scrape_matches(year=YEAR, league=LEAGUE)\n",
    "filename = f'../data/matches_{YEAR}_{LEAGUE.replace(\" \",\"_\")}_FBRef.csv'\n",
    "matches.to_csv(path_or_buf=filename, index=False)"
   ]
  }
 ],
 "metadata": {
  "kernelspec": {
   "display_name": "scraperFC-WyyYYgxL",
   "language": "python",
   "name": "python3"
  },
  "language_info": {
   "codemirror_mode": {
    "name": "ipython",
    "version": 3
   },
   "file_extension": ".py",
   "mimetype": "text/x-python",
   "name": "python",
   "nbconvert_exporter": "python",
   "pygments_lexer": "ipython3",
   "version": "3.10.5"
  }
 },
 "nbformat": 4,
 "nbformat_minor": 2
}

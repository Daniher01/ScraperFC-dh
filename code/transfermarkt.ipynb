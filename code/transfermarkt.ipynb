{
 "cells": [
  {
   "cell_type": "markdown",
   "metadata": {},
   "source": [
    "### Información de los jugadores de esa liga"
   ]
  },
  {
   "cell_type": "code",
   "execution_count": 1,
   "metadata": {},
   "outputs": [
    {
     "name": "stderr",
     "output_type": "stream",
     "text": [
      "c:\\Users\\USUARIO\\.virtualenvs\\scraperFC-WyyYYgxL\\lib\\site-packages\\tqdm\\auto.py:21: TqdmWarning: IProgress not found. Please update jupyter and ipywidgets. See https://ipywidgets.readthedocs.io/en/stable/user_install.html\n",
      "  from .autonotebook import tqdm as notebook_tqdm\n",
      "Gathering player links: 100%|██████████| 16/16 [23:20<00:00, 87.52s/it] \n",
      "Scraping player https://www.transfermarkt.us/manuel-rivera/profil/spieler/534910: 100%|██████████| 526/526 [18:38<00:00,  2.13s/it]         \n"
     ]
    }
   ],
   "source": [
    "import ScraperFC as sfc\n",
    "\n",
    "scraper = sfc.Transfermarkt()\n",
    "\n",
    "YEAR = 2023\n",
    "LEAGUE = 'Chile Campeonato Profesional'\n",
    "\n",
    "\n",
    "# Scrape the table\n",
    "lg_table = scraper.get_players(year=YEAR, league=LEAGUE)\n",
    "\n",
    "# Guardar la data en csv\n",
    "lg_table.to_csv(f'../data/value_players_{LEAGUE.replace(\" \", \"_\")}_{YEAR}_Transfermarkt.csv', index=False, sep=';', encoding='utf-8')"
   ]
  }
 ],
 "metadata": {
  "kernelspec": {
   "display_name": "scraperFC-WyyYYgxL",
   "language": "python",
   "name": "python3"
  },
  "language_info": {
   "codemirror_mode": {
    "name": "ipython",
    "version": 3
   },
   "file_extension": ".py",
   "mimetype": "text/x-python",
   "name": "python",
   "nbconvert_exporter": "python",
   "pygments_lexer": "ipython3",
   "version": "3.10.5"
  }
 },
 "nbformat": 4,
 "nbformat_minor": 2
}
